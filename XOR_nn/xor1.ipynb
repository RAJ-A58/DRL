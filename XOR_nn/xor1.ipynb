{
 "cells": [
  {
   "cell_type": "code",
   "execution_count": 137,
   "id": "8eb7fd4b",
   "metadata": {},
   "outputs": [],
   "source": [
    "import numpy as np\n",
    "import matplotlib.pyplot as plt\n",
    "def sigmoid(z):    # Sigmoid activation function\n",
    "    return 1/(1+np.exp(-z))"
   ]
  },
  {
   "cell_type": "code",
   "execution_count": 138,
   "id": "992acfb2",
   "metadata": {},
   "outputs": [],
   "source": [
    "# Input information for XOR problem\n",
    "X = np.array([[0,0],\n",
    "              [0,1],\n",
    "              [1,0],\n",
    "              [1,1]])\n",
    "# Target output\n",
    "Y = np.array([[0],\n",
    "              [1],\n",
    "              [1],\n",
    "              [0]])"
   ]
  },
  {
   "cell_type": "code",
   "execution_count": 139,
   "id": "6efc79bb",
   "metadata": {},
   "outputs": [],
   "source": [
    "def sigmoid_derivative(z):   #Function to calculate derivative of sigmoid function\n",
    "    s=sigmoid(z)\n",
    "    return s*(1-s)"
   ]
  },
  {
   "cell_type": "code",
   "execution_count": 140,
   "id": "01cebfae",
   "metadata": {},
   "outputs": [],
   "source": [
    "np.random.seed(42)  # to generate same values using random during every run.    \n",
    "# Initialize weights and biases randomly\n",
    "w1=np.random.rand(2,2)\n",
    "w2=np.random.rand(2,1)\n",
    "b1=np.random.rand(1,2)\n",
    "b2=np.random.rand(1,1)\n",
    "alpha=0.08  #learning rate\n",
    "epochs=10000\n",
    "losses = []   #initialize a empty list to store losses"
   ]
  },
  {
   "cell_type": "code",
   "execution_count": 141,
   "id": "468d8fce",
   "metadata": {},
   "outputs": [],
   "source": [
    "#calculate the binary cross entropy loss\n",
    "def loss_claculation(y,y_hat):\n",
    "    return -(y*np.log(y_hat) + (1-y)*np.log(1-y_hat))"
   ]
  },
  {
   "cell_type": "code",
   "execution_count": 142,
   "id": "1c6e2bdb",
   "metadata": {},
   "outputs": [],
   "source": [
    "for epoch in range(epochs):\n",
    "    #forward propagation\n",
    "    z1=np.dot(X,w1) + b1\n",
    "    a1=sigmoid(z1)\n",
    "    z2=np.dot(a1,w2) + b2\n",
    "    a2=sigmoid(z2)\n",
    "    #calculatio of loss using binaray cross entropy\n",
    "    loss=loss_claculation(Y,a2)\n",
    "    losses.append(np.mean(loss))\n",
    "    #backward propagation\n",
    "    dz2=a2 - Y\n",
    "    dw2=np.dot(a1.T, dz2)\n",
    "    db2=np.sum(dz2, axis=0, keepdims=True)\n",
    "    dz1=np.dot(dz2, w2.T) * sigmoid_derivative(z1)\n",
    "    dw1=np.dot(X.T, dz1)\n",
    "    db1=np.sum(dz1, axis=0, keepdims=True)\n",
    "\n",
    "    #update weights and biases\n",
    "    w2 -= alpha * dw2\n",
    "    b2 -= alpha * db2     \n",
    "    w1 -= alpha * dw1\n",
    "    b1 -= alpha * db1"
   ]
  },
  {
   "cell_type": "code",
   "execution_count": 143,
   "id": "d82c3bef",
   "metadata": {},
   "outputs": [
    {
     "name": "stdout",
     "output_type": "stream",
     "text": [
      "\n",
      "Final predictions (rounded):\n",
      "[[0.]\n",
      " [1.]\n",
      " [1.]\n",
      " [0.]]\n",
      "\n",
      "Final raw outputs:\n",
      "[[0.00450104]\n",
      " [0.99677685]\n",
      " [0.99677413]\n",
      " [0.00336831]]\n"
     ]
    }
   ],
   "source": [
    "print(\"\\nFinal predictions (rounded):\")\n",
    "print(a2.round())\n",
    "\n",
    "print(\"\\nFinal raw outputs:\")\n",
    "print(a2)"
   ]
  },
  {
   "cell_type": "code",
   "execution_count": 144,
   "id": "720a24db",
   "metadata": {},
   "outputs": [
    {
     "data": {
      "image/png": "[encoded data removed]",
      "text/plain": [
       "<Figure size 640x480 with 1 Axes>"
      ]
     },
     "metadata": {},
     "output_type": "display_data"
    }
   ],
   "source": [
    "plt.plot(losses)\n",
    "plt.xlabel(\"Epoch\")\n",
    "plt.ylabel(\"MSE Loss\")\n",
    "plt.title(\"Training Loss for XOR\")\n",
    "plt.show()"
   ]
  }
 ],
 "metadata": {
  "kernelspec": {
   "display_name": "myenv (3.12.4)",
   "language": "python",
   "name": "python3"
  },
  "language_info": {
   "codemirror_mode": {
    "name": "ipython",
    "version": 3
   },
   "file_extension": ".py",
   "mimetype": "text/x-python",
   "name": "python",
   "nbconvert_exporter": "python",
   "pygments_lexer": "ipython3",
   "version": "3.12.4"
  }
 },
 "nbformat": 4,
 "nbformat_minor": 5
}
